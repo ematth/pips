{
 "cells": [
  {
   "cell_type": "markdown",
   "id": "a06bb31e",
   "metadata": {},
   "source": [
    "# Pips Solver: An algorithm/runtime analysis"
   ]
  },
  {
   "cell_type": "markdown",
   "id": "ffd2c27b",
   "metadata": {},
   "source": [
    "The goal of this project is to design and implement an efficient algorithm for solving the NYTGames puzzle \"Pips\". In short, I use a backtracking algorithm to attempt domino placement, and BFS on each domino placement to verify that tile constraints are met. Additional functionality- heuristics and multiprocessing- are also applied to speed up solve time on puzzles with significantly larger search space."
   ]
  },
  {
   "cell_type": "markdown",
   "id": "8bb2dcce",
   "metadata": {},
   "source": [
    "### Game Specifics:\n",
    "Pips consists of a board containing and even integer number of tiles $\\{t : t \\mod 2 = 0\\}$ and $t/2$ dominoes. We know the minimum number of tiles to solve a board is even given that each domino contains exactly 2 tiles. Each domino is a tuple $(x, y)$ where $x = y$ or $x \\ne y$, and $x, y \\in \\{0, 1, 2, 3, 4, 5, 6\\}$. Visually, these are represented by the number of dots that appear on each tile of the domino.\n",
    "\n",
    " Each tile can have a *constraint*, or a restriction on what number can be placed, or be \"empty\" (no constraint). The list of constraints are:\n",
    " - `=`: Every connected tile with the same constraint must be the *same* value.\n",
    " - `!`: Every connected tile with the same constraint must be a *unique* value.\n",
    " - `>X`: Every connected tile with the same constraint must sum to more than $X$.\n",
    " - `<X`: Every connected tile with the same constraint must sum to less than $X$.\n",
    " - `_`: No constraint."
   ]
  },
  {
   "cell_type": "markdown",
   "id": "b65008ab",
   "metadata": {},
   "source": [
    "### Examples:\n",
    "Initial board:\n",
    "```\n",
    " +8   _       \n",
    " +8   _    <5 \n",
    " =    =    =  \n",
    "```\n",
    "Dominoes to place: [<font color=\"red\">[5, 1]</font>, <font color=\"blue\">[1, 4]</font>, <font color=\"green\">[4, 2]</font>, <font color=\"yellow\">[1, 3]</font>]\n",
    "\n",
    "\n",
    "Solved board:\n",
    "\n",
    " <font color=\"green\">4</font>    <font color=\"green\">2</font><br> \n",
    " <font color=\"blue\">4</font>    <font color=\"red\">5</font>    <font color=\"yellow\">3</font><br> \n",
    " <font color=\"blue\">1</font>    <font color=\"red\">1</font>    <font color=\"yellow\">1</font> \n",
    "   \n"
   ]
  },
  {
   "cell_type": "markdown",
   "id": "fdd07864",
   "metadata": {},
   "source": [
    "### Runtime Analysis"
   ]
  },
  {
   "cell_type": "markdown",
   "id": "a88a68e8",
   "metadata": {},
   "source": [
    "Run `fetch_games.sh` to pull all puzzles from 08-18-2025 to the present day. Then, run the line below to get the runtimes, (by difficulty, and total runtime). On CPU, this should take <1 minute."
   ]
  },
  {
   "cell_type": "code",
   "execution_count": 1,
   "id": "90c916f9",
   "metadata": {},
   "outputs": [
    {
     "name": "stdout",
     "output_type": "stream",
     "text": [
      "\n",
      "------------------------\n",
      "Difficulty: easy, Timeout: 15s\n"
     ]
    },
    {
     "name": "stderr",
     "output_type": "stream",
     "text": [
      "100%|██████████| 64/64 [00:05<00:00, 11.32it/s]\n"
     ]
    },
    {
     "name": "stdout",
     "output_type": "stream",
     "text": [
      "Time taken: 5.655 seconds\n",
      "Average time/puzzle: 0.088 seconds\n",
      "[✅] 64 / 64 matching solutions\n",
      "[❌] 0 / 64 no solution boards\n",
      "[🕛] 0 / 64 timed out (>15s)\n",
      "\n",
      "------------------------\n",
      "Difficulty: medium, Timeout: 15s\n"
     ]
    },
    {
     "name": "stderr",
     "output_type": "stream",
     "text": [
      "100%|██████████| 64/64 [00:11<00:00,  5.61it/s]\n"
     ]
    },
    {
     "name": "stdout",
     "output_type": "stream",
     "text": [
      "Time taken: 11.415 seconds\n",
      "Average time/puzzle: 0.178 seconds\n",
      "[✅] 64 / 64 matching solutions\n",
      "[❌] 0 / 64 no solution boards\n",
      "[🕛] 0 / 64 timed out (>15s)\n",
      "\n",
      "------------------------\n",
      "Difficulty: hard, Timeout: 15s\n"
     ]
    },
    {
     "name": "stderr",
     "output_type": "stream",
     "text": [
      "100%|██████████| 64/64 [00:29<00:00,  2.13it/s]"
     ]
    },
    {
     "name": "stdout",
     "output_type": "stream",
     "text": [
      "Time taken: 29.996 seconds\n",
      "Average time/puzzle: 0.469 seconds\n",
      "[✅] 64 / 64 matching solutions\n",
      "[❌] 0 / 64 no solution boards\n",
      "[🕛] 0 / 64 timed out (>15s)\n",
      "------------------------\n",
      "------------------------\n",
      "TOTAL TIME: 47.066 seconds\n"
     ]
    },
    {
     "name": "stderr",
     "output_type": "stream",
     "text": [
      "\n"
     ]
    }
   ],
   "source": [
    "from runtime import run_solver_all, run_solver\n",
    "run_solver_all(15)"
   ]
  }
 ],
 "metadata": {
  "kernelspec": {
   "display_name": "Python 3",
   "language": "python",
   "name": "python3"
  },
  "language_info": {
   "codemirror_mode": {
    "name": "ipython",
    "version": 3
   },
   "file_extension": ".py",
   "mimetype": "text/x-python",
   "name": "python",
   "nbconvert_exporter": "python",
   "pygments_lexer": "ipython3",
   "version": "3.11.9"
  }
 },
 "nbformat": 4,
 "nbformat_minor": 5
}
