{
 "cells": [
  {
   "cell_type": "markdown",
   "id": "a06bb31e",
   "metadata": {},
   "source": [
    "# Pips Solver: An algorithm/runtime analysis"
   ]
  },
  {
   "cell_type": "markdown",
   "id": "ffd2c27b",
   "metadata": {},
   "source": [
    "The goal of this project is to design and implement an efficient algorithm for solving the NYTGames puzzle \"Pips\". In short, I use a backtracking algorithm to attempt domino placement, and BFS on each domino placement to verify that tile constraints are met."
   ]
  },
  {
   "cell_type": "markdown",
   "id": "8bb2dcce",
   "metadata": {},
   "source": [
    "### Game Specifics:\n",
    "Pips consists of a board containing and even integer number of tiles $\\{t : t \\mod 2 = 0\\}$ and $t/2$ dominoes. We know the minimum number of tiles to solve a board is even given that each domino contains exactly 2 tiles. Each domino is a tuple $(x, y)$ where $x = y$ or $x \\ne y$, and $x, y \\in \\{0, 1, 2, 3, 4, 5, 6\\}$. Visually, these are represented by the number of dots that appear on each tile of the domino.\n",
    "\n",
    " Each tile can have a *constraint*, or a restriction on what number can be placed, or be \"empty\" (no constraint). The list of constraints are:\n",
    " - `=`: Every connected tile with the same constraint must be the *same* value.\n",
    " - `!`: Every connected tile with the same constraint must be a *unique* value.\n",
    " - `>X`: Every connected tile with the same constraint must sum to more than $X$.\n",
    " - `<X`: Every connected tile with the same constraint must sum to less than $X$.\n",
    " - `_`: No constraint."
   ]
  },
  {
   "cell_type": "markdown",
   "id": "b65008ab",
   "metadata": {},
   "source": [
    "### Examples:\n",
    "Initial board:\n",
    "```\n",
    " +8   _       \n",
    " +8   _    <5 \n",
    " =    =    =  \n",
    "```\n",
    "Dominoes to place: [<font color=\"red\">[5, 1]</font>, <font color=\"blue\">[1, 4]</font>, <font color=\"green\">[4, 2]</font>, <font color=\"yellow\">[1, 3]</font>]\n",
    "\n",
    "\n",
    "Solved board:\n",
    "\n",
    " <font color=\"green\">4</font>    <font color=\"green\">2</font><br> \n",
    " <font color=\"blue\">4</font>    <font color=\"red\">5</font>    <font color=\"yellow\">3</font><br> \n",
    " <font color=\"blue\">1</font>    <font color=\"red\">1</font>    <font color=\"yellow\">1</font> \n",
    "   \n"
   ]
  },
  {
   "cell_type": "markdown",
   "id": "fdd07864",
   "metadata": {},
   "source": [
    "### Runtime Analysis"
   ]
  },
  {
   "cell_type": "code",
   "execution_count": 2,
   "id": "90c916f9",
   "metadata": {},
   "outputs": [
    {
     "name": "stdout",
     "output_type": "stream",
     "text": [
      "Difficulty: easy, Timeout: 15s\n"
     ]
    },
    {
     "name": "stderr",
     "output_type": "stream",
     "text": [
      "100%|██████████| 63/63 [00:04<00:00, 14.10it/s]\n"
     ]
    },
    {
     "name": "stdout",
     "output_type": "stream",
     "text": [
      "Difficulty: medium, Timeout: 15s\n"
     ]
    },
    {
     "name": "stderr",
     "output_type": "stream",
     "text": [
      "100%|██████████| 63/63 [00:07<00:00,  8.39it/s]\n"
     ]
    },
    {
     "name": "stdout",
     "output_type": "stream",
     "text": [
      "Difficulty: hard, Timeout: 15s\n"
     ]
    },
    {
     "name": "stderr",
     "output_type": "stream",
     "text": [
      "100%|██████████| 63/63 [00:22<00:00,  2.78it/s]"
     ]
    },
    {
     "name": "stdout",
     "output_type": "stream",
     "text": [
      "------------------------\n",
      "Time taken: 34.661 seconds\n",
      "Average time/puzzle: 0.183 seconds\n",
      "[OK] 189 / 189 matching solutions\n",
      "[FAIL] 0 / 189 no solution boards\n",
      "[TIMEOUT] 0 / 189 timed out (>15s)\n"
     ]
    },
    {
     "name": "stderr",
     "output_type": "stream",
     "text": [
      "\n"
     ]
    }
   ],
   "source": [
    "from pips3 import GraphMultiProcess\n",
    "import time\n",
    "import os, json, sys\n",
    "from tqdm import tqdm\n",
    "\n",
    "s = time.time()\n",
    "matching_solutions = 0\n",
    "total_boards = 0\n",
    "no_solution_boards = 0\n",
    "timeout_boards = 0\n",
    "timeout_limit = 15\n",
    "for difficulty in ['easy', 'medium', 'hard']:\n",
    "    print(f'Difficulty: {difficulty}, Timeout: {timeout_limit}s')\n",
    "    for file in tqdm(os.listdir('boards_json')):\n",
    "        if file.endswith('.json'):\n",
    "            total_boards += 1\n",
    "            data = json.load(open(f'boards_json/{file}'))\n",
    "            game = GraphMultiProcess(data, difficulty)\n",
    "            isSolved = game.solve(timeout=timeout_limit)\n",
    "            if isSolved is True:\n",
    "                matching_solutions += 1\n",
    "            elif isSolved is False:\n",
    "                no_solution_boards += 1\n",
    "            else:  # isSolved is None (timeout)\n",
    "                print(f'Timeout on puzzle {file}\\n')\n",
    "                timeout_boards += 1\n",
    "print('------------------------')\n",
    "e = time.time()\n",
    "print(f'Time taken: {round(e - s, 3)} seconds')\n",
    "avg = (e - s) / total_boards\n",
    "print(f'Average time/puzzle: {round(avg, 3)} seconds')\n",
    "print(f'[OK] {matching_solutions} / {total_boards} matching solutions')\n",
    "print(f'[FAIL] {no_solution_boards} / {total_boards} no solution boards')\n",
    "print(f'[TIMEOUT] {timeout_boards} / {total_boards} timed out (>{timeout_limit}s)')"
   ]
  }
 ],
 "metadata": {
  "kernelspec": {
   "display_name": "base",
   "language": "python",
   "name": "python3"
  },
  "language_info": {
   "codemirror_mode": {
    "name": "ipython",
    "version": 3
   },
   "file_extension": ".py",
   "mimetype": "text/x-python",
   "name": "python",
   "nbconvert_exporter": "python",
   "pygments_lexer": "ipython3",
   "version": "3.13.5"
  }
 },
 "nbformat": 4,
 "nbformat_minor": 5
}
